{
 "cells": [
  {
   "cell_type": "markdown",
   "metadata": {},
   "source": [
    "## **Import Libraries**"
   ]
  },
  {
   "cell_type": "code",
   "execution_count": 8,
   "metadata": {},
   "outputs": [],
   "source": [
    "import numpy as np\n",
    "import os\n",
    "import shutil\n",
    "import matplotlib.pyplot as plt\n",
    "import matplotlib.image as img\n",
    "import tensorflow\n",
    "import random\n",
    "import magic"
   ]
  },
  {
   "cell_type": "markdown",
   "metadata": {},
   "source": [
    "## **Exploratory Data Analysis**"
   ]
  },
  {
   "cell_type": "code",
   "execution_count": 2,
   "metadata": {},
   "outputs": [],
   "source": [
    "root_path = r'D:\\Datasets'\n",
    "source_path = os.path.join(root_path, 'Rice_Image_Dataset')\n",
    "\n",
    "rice_dataset = {}\n",
    "\n",
    "for label in os.listdir(source_path):\n",
    "    rice_dataset[label] = [file for file in os.listdir(os.path.join(source_path, label))]"
   ]
  },
  {
   "cell_type": "code",
   "execution_count": 3,
   "metadata": {},
   "outputs": [
    {
     "name": "stdout",
     "output_type": "stream",
     "text": [
      "amount of data\t\t: 75000\n",
      "------------------------------------------------------------\n",
      "amount of label\t\t: 5\n",
      "------------------------------------------------------------\n",
      "amount of arborio\t: 15000\n",
      "------------------------------------------------------------\n",
      "amount of basmati\t: 15000\n",
      "------------------------------------------------------------\n",
      "amount of ipsala\t: 15000\n",
      "------------------------------------------------------------\n",
      "amount of jasmine\t: 15000\n",
      "------------------------------------------------------------\n",
      "amount of karacadag\t: 15000\n",
      "------------------------------------------------------------\n"
     ]
    }
   ],
   "source": [
    "print(\n",
    "    f'amount of data\\t\\t: {sum([len(files) for files in rice_dataset.values()])}',\n",
    "    f'amount of label\\t\\t: {len(rice_dataset.keys())}',\n",
    "    sep = '\\n' + '-'*60 + '\\n'\n",
    ")\n",
    "\n",
    "print('-'*60)\n",
    "\n",
    "for key, value in rice_dataset.items():\n",
    "    print(f'amount of {key.lower()}\\t: {len(value)}')\n",
    "    print('-'*60)"
   ]
  },
  {
   "cell_type": "code",
   "execution_count": 22,
   "metadata": {},
   "outputs": [
    {
     "name": "stdout",
     "output_type": "stream",
     "text": [
      "Image Resolution: 250x250\n"
     ]
    }
   ],
   "source": [
    "image_resolution = magic.from_file(os.path.join(root_path, source_path, 'Arborio', rice_dataset['Arborio'][0])).split(',')[7].strip()\n",
    "print(f'Image Resolution: {image_resolution}')"
   ]
  },
  {
   "cell_type": "markdown",
   "metadata": {},
   "source": [
    "## **Data Visualization**"
   ]
  },
  {
   "cell_type": "code",
   "execution_count": null,
   "metadata": {},
   "outputs": [],
   "source": []
  },
  {
   "cell_type": "markdown",
   "metadata": {},
   "source": [
    "## **Normalize Image Pixels**"
   ]
  },
  {
   "cell_type": "code",
   "execution_count": null,
   "metadata": {},
   "outputs": [],
   "source": []
  },
  {
   "cell_type": "markdown",
   "metadata": {},
   "source": [
    "## **Split Dataset**"
   ]
  },
  {
   "cell_type": "code",
   "execution_count": null,
   "metadata": {},
   "outputs": [],
   "source": []
  },
  {
   "cell_type": "markdown",
   "metadata": {},
   "source": [
    "## **Model Architecture**"
   ]
  },
  {
   "cell_type": "code",
   "execution_count": null,
   "metadata": {},
   "outputs": [],
   "source": []
  },
  {
   "cell_type": "markdown",
   "metadata": {},
   "source": [
    "## **Model Configuration**"
   ]
  },
  {
   "cell_type": "code",
   "execution_count": null,
   "metadata": {},
   "outputs": [],
   "source": []
  },
  {
   "cell_type": "markdown",
   "metadata": {},
   "source": [
    "## **Train Model**"
   ]
  },
  {
   "cell_type": "code",
   "execution_count": null,
   "metadata": {},
   "outputs": [],
   "source": []
  },
  {
   "cell_type": "markdown",
   "metadata": {},
   "source": [
    "## **Evaluate Model**"
   ]
  },
  {
   "cell_type": "code",
   "execution_count": null,
   "metadata": {},
   "outputs": [],
   "source": []
  },
  {
   "cell_type": "markdown",
   "metadata": {},
   "source": [
    "## **Model Visualization**"
   ]
  },
  {
   "cell_type": "code",
   "execution_count": null,
   "metadata": {},
   "outputs": [],
   "source": []
  }
 ],
 "metadata": {
  "kernelspec": {
   "display_name": "Python 3.10.7 ('venv_klasifikasi_jenis_beras')",
   "language": "python",
   "name": "python3"
  },
  "language_info": {
   "codemirror_mode": {
    "name": "ipython",
    "version": 3
   },
   "file_extension": ".py",
   "mimetype": "text/x-python",
   "name": "python",
   "nbconvert_exporter": "python",
   "pygments_lexer": "ipython3",
   "version": "3.10.7"
  },
  "orig_nbformat": 4,
  "vscode": {
   "interpreter": {
    "hash": "134f5f8ed0f0ed561f2885f25bda640ce958e34758d1ba72b0728e4a7cb8cb92"
   }
  }
 },
 "nbformat": 4,
 "nbformat_minor": 2
}
